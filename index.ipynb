{
 "cells": [
  {
   "cell_type": "markdown",
   "metadata": {},
   "source": [
    "# Machine Learning with Spark\n",
    "\n",
    "## Introduction\n",
    "\n",
    "You've now explored how to perform operations on Spark RDDs for simple Map-Reduce tasks. Luckily, there are far more advanced use cases for spark, and many of them are found in the ml library, which we are going to explore in this lesson.\n",
    "\n",
    "\n",
    "## Objectives\n",
    "* Describe the use case for Machine Learning with Spark\n",
    "* Load and manipulate data with Spark DataFrames\n",
    "* Train a machine learning model with Spark\n",
    "\n",
    "\n",
    "## A Tale of Two Libraries\n",
    "\n",
    "If you look at the pyspark documentation, you'll notice that there are two different libraries for machine learning, [mllib](https://spark.apache.org/docs/latest/api/python/pyspark.mllib.html) and [ml](https://spark.apache.org/docs/latest/api/python/pyspark.ml.html). These libraries are extremely similar to one another, the only difference being that the mllib library is built upon the RDDs you just practiced using; whereas, the ml library is built on higher level Spark DataFrames, which has methods and attributes similar to pandas. Spark has stated that in the future, it is going to devote more effort to the `ml` library and that `mllib` will become deprecated. It's important to note that these libraries are much younger than pandas and sci-kit learn and there are not as many features present in either.\n",
    "\n",
    "## Spark DataFrames\n",
    "\n",
    "In the previous lessons, you've been introduced to SparkContext as the primary way to connect with a Spark Application. Here, we will be using SparkSession, which is from the [sql](https://spark.apache.org/docs/latest/api/python/pyspark.sql.html) component of pyspark. The SparkSession acts the same way as SparkContext; it a bridge between python and the Spark Application. It's just built on top of the Spark SQL API, a higher-level API than RDDs. In fact, a SparkContext object is spun up around which the SparkSession object is wrapped. Let's go through the process of manipulating some data here. For this example, we're going to be using the [Forest Fire dataset](https://archive.ics.uci.edu/ml/datasets/Forest+Fires) from UCI, which contains data about the area burned by wildfires in the Northeast region of Portugal in relation to numerous other factors.\n",
    "\n",
    "To begin with, let's create a SparkSession so that we can spin up our spark application.\n"
   ]
  },
  {
   "cell_type": "code",
   "execution_count": 1,
   "metadata": {},
   "outputs": [],
   "source": [
    "# importing the necessary libraries\n",
    "from pyspark import SparkContext\n",
    "from pyspark.sql import SparkSession\n",
    "# sc = SparkContext('local[*]')\n",
    "# spark = SparkSession(sc)"
   ]
  },
  {
   "cell_type": "markdown",
   "metadata": {},
   "source": [
    "An alternate, one liner way to create a SparkSession is below"
   ]
  },
  {
   "cell_type": "code",
   "execution_count": 2,
   "metadata": {},
   "outputs": [],
   "source": [
    "spark = SparkSession.builder.master(\"local\").getOrCreate()"
   ]
  },
  {
   "cell_type": "markdown",
   "metadata": {},
   "source": [
    "Now, we'll load the read in our data into the pyspark DataFrame object."
   ]
  },
  {
   "cell_type": "code",
   "execution_count": 3,
   "metadata": {},
   "outputs": [
    {
     "data": {
      "text/plain": [
       "pyspark.sql.dataframe.DataFrame"
      ]
     },
     "execution_count": 3,
     "metadata": {},
     "output_type": "execute_result"
    }
   ],
   "source": [
    "## reading in pyspark df\n",
    "spark_df = spark.read.csv('./forestfires.csv',header='true',inferSchema='true')\n",
    "\n",
    "## observing the datatype of df\n",
    "type(spark_df)"
   ]
  },
  {
   "cell_type": "markdown",
   "metadata": {},
   "source": [
    "You'll notice that some of the methods are extremely similar or the same as those found within Pandas."
   ]
  },
  {
   "cell_type": "code",
   "execution_count": 7,
   "metadata": {},
   "outputs": [
    {
     "data": {
      "text/plain": [
       "Row(X=7, Y=5, month='mar', day='fri', FFMC=86.2, DMC=26.2, DC=94.3, ISI=5.1, temp=8.2, RH=51, wind=6.7, rain=0.0, area=0.0)"
      ]
     },
     "execution_count": 7,
     "metadata": {},
     "output_type": "execute_result"
    }
   ],
   "source": [
    "spark_df.head()"
   ]
  },
  {
   "cell_type": "code",
   "execution_count": 5,
   "metadata": {},
   "outputs": [
    {
     "data": {
      "text/plain": [
       "['X',\n",
       " 'Y',\n",
       " 'month',\n",
       " 'day',\n",
       " 'FFMC',\n",
       " 'DMC',\n",
       " 'DC',\n",
       " 'ISI',\n",
       " 'temp',\n",
       " 'RH',\n",
       " 'wind',\n",
       " 'rain',\n",
       " 'area']"
      ]
     },
     "execution_count": 5,
     "metadata": {},
     "output_type": "execute_result"
    }
   ],
   "source": [
    "spark_df.columns"
   ]
  },
  {
   "cell_type": "markdown",
   "metadata": {},
   "source": [
    "Selecting multiple columns is the same"
   ]
  },
  {
   "cell_type": "code",
   "execution_count": 8,
   "metadata": {},
   "outputs": [
    {
     "data": {
      "text/plain": [
       "DataFrame[month: string, day: string, rain: double]"
      ]
     },
     "execution_count": 8,
     "metadata": {},
     "output_type": "execute_result"
    }
   ],
   "source": [
    "spark_df[['month','day','rain']]"
   ]
  },
  {
   "cell_type": "markdown",
   "metadata": {},
   "source": [
    "But selecting one column is different. If you want to maintain the methods of a spark DataFrame, you should use the `select` method. If you want to just select the column, you can use the same method you would use in pandas (this is primarily what you would use if you're attempting to create a Boolean mask).\n"
   ]
  },
  {
   "cell_type": "code",
   "execution_count": 9,
   "metadata": {
    "scrolled": true
   },
   "outputs": [],
   "source": [
    "d = spark_df.select('rain')"
   ]
  },
  {
   "cell_type": "code",
   "execution_count": 10,
   "metadata": {},
   "outputs": [
    {
     "data": {
      "text/plain": [
       "Column<b'rain'>"
      ]
     },
     "execution_count": 10,
     "metadata": {},
     "output_type": "execute_result"
    }
   ],
   "source": [
    "spark_df['rain']"
   ]
  },
  {
   "cell_type": "markdown",
   "metadata": {},
   "source": [
    "Let's take a look at all of our data types in this dataframe"
   ]
  },
  {
   "cell_type": "code",
   "execution_count": 11,
   "metadata": {},
   "outputs": [
    {
     "data": {
      "text/plain": [
       "[('X', 'int'),\n",
       " ('Y', 'int'),\n",
       " ('month', 'string'),\n",
       " ('day', 'string'),\n",
       " ('FFMC', 'double'),\n",
       " ('DMC', 'double'),\n",
       " ('DC', 'double'),\n",
       " ('ISI', 'double'),\n",
       " ('temp', 'double'),\n",
       " ('RH', 'int'),\n",
       " ('wind', 'double'),\n",
       " ('rain', 'double'),\n",
       " ('area', 'double')]"
      ]
     },
     "execution_count": 11,
     "metadata": {},
     "output_type": "execute_result"
    }
   ],
   "source": [
    "spark_df.dtypes"
   ]
  },
  {
   "cell_type": "markdown",
   "metadata": {},
   "source": [
    "## Aggregations with our DataFrame"
   ]
  },
  {
   "cell_type": "markdown",
   "metadata": {},
   "source": [
    "Let's investigate to see if there is any correlation between what month it is and the area of fire."
   ]
  },
  {
   "cell_type": "code",
   "execution_count": 12,
   "metadata": {},
   "outputs": [
    {
     "data": {
      "text/plain": [
       "DataFrame[month: string, avg(area): double]"
      ]
     },
     "execution_count": 12,
     "metadata": {},
     "output_type": "execute_result"
    }
   ],
   "source": [
    "spark_df_months = spark_df.groupBy('month').agg({'area':'mean'})\n",
    "spark_df_months"
   ]
  },
  {
   "cell_type": "markdown",
   "metadata": {},
   "source": [
    "Notice how the grouped DataFrame is not returned when you call the aggregation method. Remember, this is still Spark! The transformations and actions are kept separate so that it is easier to manage large quantities of data. You can perform the transformation by making a `collect` method call."
   ]
  },
  {
   "cell_type": "code",
   "execution_count": 13,
   "metadata": {},
   "outputs": [
    {
     "data": {
      "text/plain": [
       "[Row(month='jun', avg(area)=5.841176470588234),\n",
       " Row(month='aug', avg(area)=12.489076086956521),\n",
       " Row(month='may', avg(area)=19.24),\n",
       " Row(month='feb', avg(area)=6.275),\n",
       " Row(month='sep', avg(area)=17.942616279069753),\n",
       " Row(month='mar', avg(area)=4.356666666666667),\n",
       " Row(month='oct', avg(area)=6.638),\n",
       " Row(month='jul', avg(area)=14.3696875),\n",
       " Row(month='nov', avg(area)=0.0),\n",
       " Row(month='apr', avg(area)=8.891111111111112),\n",
       " Row(month='dec', avg(area)=13.33),\n",
       " Row(month='jan', avg(area)=0.0)]"
      ]
     },
     "execution_count": 13,
     "metadata": {},
     "output_type": "execute_result"
    }
   ],
   "source": [
    "spark_df_months.collect()"
   ]
  },
  {
   "cell_type": "markdown",
   "metadata": {},
   "source": [
    "As you can see, there seem to be larger area fires during what would be considered the summer months in Portugal. On your own, practice more aggregations and manipulations that you might be able to perform on this dataset. Now, we'll move on to using the machine learning applications of pyspark. "
   ]
  },
  {
   "cell_type": "markdown",
   "metadata": {},
   "source": [
    "## Boolean Masking\n",
    "Boolean masking also works with pyspark DataFrames just like Pandas DataFrames, the only difference being that the `filter` method is used in pyspark. To try this out, let's compare the amount the fire in those areas with absolutely no rain to those areas that had rain."
   ]
  },
  {
   "cell_type": "code",
   "execution_count": 14,
   "metadata": {},
   "outputs": [],
   "source": [
    "no_rain = spark_df.filter(spark_df['rain'] == 0.0)\n",
    "some_rain = spark_df.filter(spark_df['rain'] > 0.0)"
   ]
  },
  {
   "cell_type": "markdown",
   "metadata": {},
   "source": [
    "Now, to perform calculations to find the mean of a column, we'll have to import functions from `pyspark.sql`. As always, to read more about them, check out the [documentation](https://spark.apache.org/docs/latest/api/python/pyspark.sql.html#module-pyspark.sql.functions)."
   ]
  },
  {
   "cell_type": "code",
   "execution_count": 15,
   "metadata": {},
   "outputs": [
    {
     "name": "stdout",
     "output_type": "stream",
     "text": [
      "+------------------+\n",
      "|         avg(area)|\n",
      "+------------------+\n",
      "|13.023693516699408|\n",
      "+------------------+\n",
      "\n",
      "no rain fire area:  None \n",
      "\n",
      "+---------+\n",
      "|avg(area)|\n",
      "+---------+\n",
      "|  1.62375|\n",
      "+---------+\n",
      "\n",
      "some rain fire area:  None \n",
      "\n"
     ]
    }
   ],
   "source": [
    "from pyspark.sql.functions import mean\n",
    "\n",
    "print('no rain fire area: ',no_rain.select(mean('area')).show(),'\\n')\n",
    "\n",
    "print('some rain fire area: ',some_rain.select(mean('area')).show(),'\\n')"
   ]
  },
  {
   "cell_type": "markdown",
   "metadata": {},
   "source": [
    "Yes there's definitely something there! Unsurprisingly, rain plays in a big factor in the spread of wildfire.\n",
    "\n",
    "Let's try and get obtain data from only the summer months in Portugal (June, July, and August). We can also do the same for the winter months in Portugal (December, January, February)."
   ]
  },
  {
   "cell_type": "code",
   "execution_count": 16,
   "metadata": {},
   "outputs": [
    {
     "name": "stdout",
     "output_type": "stream",
     "text": [
      "+------------------+\n",
      "|         avg(area)|\n",
      "+------------------+\n",
      "|12.262317596566525|\n",
      "+------------------+\n",
      "\n",
      "summer months fire area None\n",
      "+-----------------+\n",
      "|        avg(area)|\n",
      "+-----------------+\n",
      "|7.918387096774193|\n",
      "+-----------------+\n",
      "\n",
      "winter months fire areas None\n"
     ]
    }
   ],
   "source": [
    "summer_months = spark_df.filter(spark_df['month'].isin(['jun','jul','aug']))\n",
    "winter_months = spark_df.filter(spark_df['month'].isin(['dec','jan','feb']))\n",
    "\n",
    "print('summer months fire area', summer_months.select(mean('area')).show())\n",
    "print('winter months fire areas', winter_months.select(mean('area')).show())"
   ]
  },
  {
   "cell_type": "markdown",
   "metadata": {},
   "source": [
    "## Machine Learning\n",
    "\n",
    "Now that we've performed some data manipulation and aggregation, lets get to the really cool stuff, machine learning! Pyspark states that they've used sklearn as an inspiration for their implementation of a machine learning library. As a result, many of the methods and functionalities look similar, but there are some crucial distinctions. There are three main concepts found within the ML library:\n",
    "\n",
    "`Transformer`: An algorithm that transforms one pyspark DataFrame into another DataFrame. \n",
    "\n",
    "`Estimator`: An algorithm that can be fit onto a pyspark DataFrame that can then be used as a Transformer. \n",
    "\n",
    "`Pipeline`: A pipeline very similar to an sklearn pipeline that chains together different actions.\n",
    "\n",
    "The reasoning behind this separation of the fitting and transforming step is because spark is lazily evaluated, so the 'fitting' of a model does not actually take place until the Transformation action is called. Let's examine what this actually looks like by performing a regression on the Forest Fire Dataset. To start off with, we'll import the necessary libraries for our tasks."
   ]
  },
  {
   "cell_type": "code",
   "execution_count": 17,
   "metadata": {},
   "outputs": [],
   "source": [
    "from pyspark.ml.regression import RandomForestRegressor\n",
    "from pyspark.ml import feature\n",
    "from pyspark.ml.feature import StringIndexer, VectorAssembler, OneHotEncoderEstimator"
   ]
  },
  {
   "cell_type": "markdown",
   "metadata": {},
   "source": [
    "Looking at our data, one can see that all the categories are numerical except for day and month. We saw some correlation between the month and area burned in a fire, so we will include that in our model. The day of the week, however, is highly unlikely to have any effect on fire, so we will drop it from the DataFrame."
   ]
  },
  {
   "cell_type": "code",
   "execution_count": 18,
   "metadata": {},
   "outputs": [
    {
     "data": {
      "text/plain": [
       "Row(X=7, Y=5, month='mar', FFMC=86.2, DMC=26.2, DC=94.3, ISI=5.1, temp=8.2, RH=51, wind=6.7, rain=0.0, area=0.0)"
      ]
     },
     "execution_count": 18,
     "metadata": {},
     "output_type": "execute_result"
    }
   ],
   "source": [
    "fire_df = spark_df.drop('day')\n",
    "fire_df.head()"
   ]
  },
  {
   "cell_type": "markdown",
   "metadata": {},
   "source": [
    "In order for us to run our model, we need to turn the months variable into a dummy variable. In `ml` this is a 2-step process that first requires turning the categorical variable into a numerical index (`StringIndexer`). Only after the variable is an int can pyspark create dummy variable columns related to each category (`OneHotEncoderEstimator`). You key parameters you when using these `ml` estimators are: inputCol (the column you want to change) and outputCol (where you will store the changed column). Here it is in action"
   ]
  },
  {
   "cell_type": "code",
   "execution_count": 19,
   "metadata": {},
   "outputs": [],
   "source": [
    "si = StringIndexer(inputCol='month',outputCol='month_num')\n",
    "model = si.fit(fire_df)\n",
    "new_df = model.transform(fire_df)"
   ]
  },
  {
   "cell_type": "markdown",
   "metadata": {},
   "source": [
    "Note the small, but critical distinction between sklearn's implementation of a transformer and pyspark's implementation. sklearn is more object oriented and spark is more functionally based programming."
   ]
  },
  {
   "cell_type": "code",
   "execution_count": 20,
   "metadata": {},
   "outputs": [
    {
     "data": {
      "text/plain": [
       "pyspark.ml.feature.StringIndexer"
      ]
     },
     "execution_count": 20,
     "metadata": {},
     "output_type": "execute_result"
    }
   ],
   "source": [
    "## this is an estimator (an untrained transformer)\n",
    "type(si)"
   ]
  },
  {
   "cell_type": "code",
   "execution_count": 21,
   "metadata": {},
   "outputs": [
    {
     "data": {
      "text/plain": [
       "pyspark.ml.feature.StringIndexerModel"
      ]
     },
     "execution_count": 21,
     "metadata": {},
     "output_type": "execute_result"
    }
   ],
   "source": [
    "## this is a transformer (a trained transformer)\n",
    "type(model)"
   ]
  },
  {
   "cell_type": "code",
   "execution_count": 22,
   "metadata": {},
   "outputs": [
    {
     "data": {
      "text/plain": [
       "['aug',\n",
       " 'sep',\n",
       " 'mar',\n",
       " 'jul',\n",
       " 'feb',\n",
       " 'jun',\n",
       " 'oct',\n",
       " 'apr',\n",
       " 'dec',\n",
       " 'jan',\n",
       " 'may',\n",
       " 'nov']"
      ]
     },
     "execution_count": 22,
     "metadata": {},
     "output_type": "execute_result"
    }
   ],
   "source": [
    "model.labels"
   ]
  },
  {
   "cell_type": "code",
   "execution_count": 23,
   "metadata": {},
   "outputs": [
    {
     "data": {
      "text/plain": [
       "[Row(X=7, Y=5, month='mar', FFMC=86.2, DMC=26.2, DC=94.3, ISI=5.1, temp=8.2, RH=51, wind=6.7, rain=0.0, area=0.0, month_num=2.0),\n",
       " Row(X=7, Y=4, month='oct', FFMC=90.6, DMC=35.4, DC=669.1, ISI=6.7, temp=18.0, RH=33, wind=0.9, rain=0.0, area=0.0, month_num=6.0),\n",
       " Row(X=7, Y=4, month='oct', FFMC=90.6, DMC=43.7, DC=686.9, ISI=6.7, temp=14.6, RH=33, wind=1.3, rain=0.0, area=0.0, month_num=6.0),\n",
       " Row(X=8, Y=6, month='mar', FFMC=91.7, DMC=33.3, DC=77.5, ISI=9.0, temp=8.3, RH=97, wind=4.0, rain=0.2, area=0.0, month_num=2.0)]"
      ]
     },
     "execution_count": 23,
     "metadata": {},
     "output_type": "execute_result"
    }
   ],
   "source": [
    "new_df.head(4)"
   ]
  },
  {
   "cell_type": "code",
   "execution_count": 29,
   "metadata": {},
   "outputs": [
    {
     "data": {
      "text/plain": [
       "Row(X=7, Y=5, FFMC=86.2, DMC=26.2, DC=94.3, ISI=5.1, temp=8.2, RH=51, wind=6.7, rain=0.0, area=0.0, month_num=2.0)"
      ]
     },
     "execution_count": 29,
     "metadata": {},
     "output_type": "execute_result"
    }
   ],
   "source": [
    "#\n",
    "new_df = new_df.drop('month')\n",
    "new_df.head()"
   ]
  },
  {
   "cell_type": "markdown",
   "metadata": {},
   "source": [
    "As you can see, we have created a new column called \"month_num\" that represents the month by a number. Now that we have performed this step, we can use Spark's version of OneHotEncoder. Let's make sure we have an accurate representation of the months."
   ]
  },
  {
   "cell_type": "code",
   "execution_count": 30,
   "metadata": {},
   "outputs": [
    {
     "data": {
      "text/plain": [
       "[Row(month_num=8.0),\n",
       " Row(month_num=0.0),\n",
       " Row(month_num=7.0),\n",
       " Row(month_num=1.0),\n",
       " Row(month_num=4.0),\n",
       " Row(month_num=11.0),\n",
       " Row(month_num=3.0),\n",
       " Row(month_num=2.0),\n",
       " Row(month_num=10.0),\n",
       " Row(month_num=6.0),\n",
       " Row(month_num=5.0),\n",
       " Row(month_num=9.0)]"
      ]
     },
     "execution_count": 30,
     "metadata": {},
     "output_type": "execute_result"
    }
   ],
   "source": [
    "new_df.select('month_num').distinct().collect()"
   ]
  },
  {
   "cell_type": "code",
   "execution_count": 31,
   "metadata": {},
   "outputs": [
    {
     "data": {
      "text/plain": [
       "Row(X=7, Y=5, FFMC=86.2, DMC=26.2, DC=94.3, ISI=5.1, temp=8.2, RH=51, wind=6.7, rain=0.0, area=0.0, month_num=2.0, month_vec=SparseVector(11, {2: 1.0}))"
      ]
     },
     "execution_count": 31,
     "metadata": {},
     "output_type": "execute_result"
    }
   ],
   "source": [
    "## fitting and transforming the OneHotEncoder\n",
    "ohe = feature.OneHotEncoderEstimator(inputCols=['month_num'],outputCols=['month_vec'],dropLast=True)\n",
    "one_hot_encoded = ohe.fit(new_df).transform(new_df)\n",
    "one_hot_encoded.head()"
   ]
  },
  {
   "cell_type": "markdown",
   "metadata": {},
   "source": [
    "Great, we now have a OneHotEncoded sparse vector in the month_vec column! Because spark is optimized for big data, sparse vectors are used rather than entirely new columns for dummy variables because it is more space efficient. You can see in this first row of the data frame:  \n",
    "`month_vec=SparseVector(11, {2: 1.0})` this indicates that we have a sparse vector of size 11 (because of the parameter `dropLast = True` in OneHotEncoderEstimator) and this particular datapoint is the 2nd index of our month labels (march, based off the labels in the `model` StringEstimator transformer)  \n",
    "\n",
    "The final requirement for all machine learning models in pyspark is to put all of the features of your model into one Sparse Vector. This is once again for efficiency sake. Here, we are doing that with the `VectorAssembler` estimator."
   ]
  },
  {
   "cell_type": "code",
   "execution_count": 32,
   "metadata": {},
   "outputs": [],
   "source": [
    "features = ['X',\n",
    " 'Y',\n",
    " 'FFMC',\n",
    " 'DMC',\n",
    " 'DC',\n",
    " 'ISI',\n",
    " 'temp',\n",
    " 'RH',\n",
    " 'wind',\n",
    " 'rain',\n",
    " 'month_vec']\n",
    "\n",
    "target = 'area'\n",
    "\n",
    "vector = VectorAssembler(inputCols=features,outputCol='features')\n",
    "vectorized_df = vector.transform(one_hot_encoded)"
   ]
  },
  {
   "cell_type": "code",
   "execution_count": 33,
   "metadata": {},
   "outputs": [
    {
     "data": {
      "text/plain": [
       "Row(X=7, Y=5, FFMC=86.2, DMC=26.2, DC=94.3, ISI=5.1, temp=8.2, RH=51, wind=6.7, rain=0.0, area=0.0, month_num=2.0, month_vec=SparseVector(11, {2: 1.0}), features=SparseVector(21, {0: 7.0, 1: 5.0, 2: 86.2, 3: 26.2, 4: 94.3, 5: 5.1, 6: 8.2, 7: 51.0, 8: 6.7, 12: 1.0}))"
      ]
     },
     "execution_count": 33,
     "metadata": {},
     "output_type": "execute_result"
    }
   ],
   "source": [
    "vectorized_df.head()"
   ]
  },
  {
   "cell_type": "markdown",
   "metadata": {},
   "source": [
    "Great! We now have our data in a format that seems acceptable for the last step. Now it's time for us to actually fit our model to data! Let's try and fit a Random Forest Regression model our data. Although there are still a bunch of other features in the DataFrame, it doesn't matter for the machine learning model API. All that needs to be specified are the names of the features column and the label column. Let's fit use Random Forest Regression to fit the model here."
   ]
  },
  {
   "cell_type": "code",
   "execution_count": 34,
   "metadata": {},
   "outputs": [],
   "source": [
    "## instantiating and fitting the model\n",
    "rf_model = RandomForestRegressor(featuresCol='features',labelCol='area',predictionCol=\"prediction\").fit(vectorized_df)"
   ]
  },
  {
   "cell_type": "code",
   "execution_count": 35,
   "metadata": {},
   "outputs": [
    {
     "data": {
      "text/plain": [
       "SparseVector(21, {0: 0.082, 1: 0.0595, 2: 0.0979, 3: 0.0959, 4: 0.1054, 5: 0.0454, 6: 0.1253, 7: 0.1318, 8: 0.1688, 10: 0.0493, 11: 0.0077, 12: 0.0, 13: 0.0304, 14: 0.0, 16: 0.0001, 17: 0.0001, 18: 0.0002, 20: 0.0002})"
      ]
     },
     "execution_count": 35,
     "metadata": {},
     "output_type": "execute_result"
    }
   ],
   "source": [
    "rf_model.featureImportances"
   ]
  },
  {
   "cell_type": "code",
   "execution_count": 36,
   "metadata": {},
   "outputs": [
    {
     "data": {
      "text/plain": [
       "[Row(area=0.0, prediction=7.030145438764919),\n",
       " Row(area=0.0, prediction=4.836683228594245),\n",
       " Row(area=0.0, prediction=5.367330799827155),\n",
       " Row(area=0.0, prediction=8.585007252991526),\n",
       " Row(area=0.0, prediction=6.694275823796497),\n",
       " Row(area=0.0, prediction=4.831825301322448),\n",
       " Row(area=0.0, prediction=4.438263706817684),\n",
       " Row(area=0.0, prediction=8.643593371031386),\n",
       " Row(area=0.0, prediction=6.2075707661022665),\n",
       " Row(area=0.0, prediction=33.54401727026368)]"
      ]
     },
     "execution_count": 36,
     "metadata": {},
     "output_type": "execute_result"
    }
   ],
   "source": [
    "## generating predictions\n",
    "predictions = rf_model.transform(vectorized_df).select(\"area\",\"prediction\")\n",
    "predictions.head(10)"
   ]
  },
  {
   "cell_type": "markdown",
   "metadata": {},
   "source": [
    "Now we can evaluate how well the model performed using `RegressionEvaluator`."
   ]
  },
  {
   "cell_type": "code",
   "execution_count": 37,
   "metadata": {},
   "outputs": [],
   "source": [
    "from pyspark.ml.evaluation import RegressionEvaluator\n",
    "evaluator = RegressionEvaluator(predictionCol='prediction', labelCol='area')"
   ]
  },
  {
   "cell_type": "code",
   "execution_count": 38,
   "metadata": {},
   "outputs": [
    {
     "data": {
      "text/plain": [
       "0.7016546815682929"
      ]
     },
     "execution_count": 38,
     "metadata": {},
     "output_type": "execute_result"
    }
   ],
   "source": [
    "## evaluating r^2\n",
    "evaluator.evaluate(predictions,{evaluator.metricName:\"r2\"})"
   ]
  },
  {
   "cell_type": "code",
   "execution_count": 39,
   "metadata": {},
   "outputs": [
    {
     "data": {
      "text/plain": [
       "14.02688066641169"
      ]
     },
     "execution_count": 39,
     "metadata": {},
     "output_type": "execute_result"
    }
   ],
   "source": [
    "## evaluating mean absolute error\n",
    "evaluator.evaluate(predictions,{evaluator.metricName:\"mae\"})"
   ]
  },
  {
   "cell_type": "markdown",
   "metadata": {},
   "source": [
    "## Putting it all in a Pipeline\n",
    "\n",
    "We just performed a whole lot of transformations to our data. Let's take a look at all the estimators we used to create this model:\n",
    "\n",
    "* StringIndexer\n",
    "* OneHotEnconderEstimator\n",
    "* VectorAssembler\n",
    "* RandomForestRegressor\n",
    "\n",
    "Once we've fit our model in the Pipeline, we're then going to want to evaluate it to determine how well it performs. We can do this with:\n",
    "\n",
    "* RegressionEvaluator\n",
    "\n",
    "\n",
    "We can streamline all of these transformations to make it all much more efficient by chaining them together in a pipeline. The Pipeline object expects a list of the estimators prior set to the parameter `stages`."
   ]
  },
  {
   "cell_type": "code",
   "execution_count": 40,
   "metadata": {},
   "outputs": [],
   "source": [
    "# importing relevant libraries\n",
    "from pyspark.ml.tuning import ParamGridBuilder, TrainValidationSplit, CrossValidator\n",
    "from pyspark.ml import Pipeline"
   ]
  },
  {
   "cell_type": "code",
   "execution_count": 41,
   "metadata": {},
   "outputs": [],
   "source": [
    "## instantiating all necessary estimator objects\n",
    "\n",
    "string_indexer = StringIndexer(inputCol='month',outputCol='month_num',handleInvalid='keep')\n",
    "one_hot_encoder = OneHotEncoderEstimator(inputCols=['month_num'],outputCols=['month_vec'],dropLast=True)\n",
    "vector_assember = VectorAssembler(inputCols=features,outputCol='features')\n",
    "random_forest = RandomForestRegressor(featuresCol='features',labelCol='area')\n",
    "stages =  [string_indexer, one_hot_encoder, vector_assember,random_forest]\n",
    "\n",
    "# instantiating the pipeline with all them estimator objects\n",
    "pipeline = Pipeline(stages=stages)"
   ]
  },
  {
   "cell_type": "markdown",
   "metadata": {},
   "source": [
    "### Cross Validation\n",
    "You might have missed a critical step in the Random Forest Regression above; we did not cross validate or perform a train/test split! Now we're going to fix that by performing cross validation and also testing out multiple different combinations of parameters in pyspark's GridSearch equivalent. To begin with, we will create a parameter grid that contains the different parameters we want to use in our model."
   ]
  },
  {
   "cell_type": "code",
   "execution_count": 42,
   "metadata": {},
   "outputs": [],
   "source": [
    "# creating parameter grid\n",
    "\n",
    "params = ParamGridBuilder()\\\n",
    ".addGrid(random_forest.maxDepth, [5,10,15])\\\n",
    ".addGrid(random_forest.numTrees, [20,50,100])\\\n",
    ".build()"
   ]
  },
  {
   "cell_type": "markdown",
   "metadata": {},
   "source": [
    "Let's take a look at the params variable we just built."
   ]
  },
  {
   "cell_type": "code",
   "execution_count": 43,
   "metadata": {},
   "outputs": [
    {
     "name": "stdout",
     "output_type": "stream",
     "text": [
      "total combinations of parameters:  9\n"
     ]
    },
    {
     "data": {
      "text/plain": [
       "{Param(parent='RandomForestRegressor_7cceb10cbf60', name='maxDepth', doc='Maximum depth of the tree. (>= 0) E.g., depth 0 means 1 leaf node; depth 1 means 1 internal node + 2 leaf nodes.'): 5,\n",
       " Param(parent='RandomForestRegressor_7cceb10cbf60', name='numTrees', doc='Number of trees to train (>= 1).'): 20}"
      ]
     },
     "execution_count": 43,
     "metadata": {},
     "output_type": "execute_result"
    }
   ],
   "source": [
    "print('total combinations of parameters: ',len(params))\n",
    "\n",
    "params[0]"
   ]
  },
  {
   "cell_type": "markdown",
   "metadata": {},
   "source": [
    "Now it's time to combine all the steps we've created to work in a single line of code with the CrossValidator estimator."
   ]
  },
  {
   "cell_type": "code",
   "execution_count": 44,
   "metadata": {},
   "outputs": [],
   "source": [
    "## instantiating the evaluator by which we will measure our model's performance\n",
    "reg_evaluator = RegressionEvaluator(predictionCol='prediction', labelCol='area',metricName = 'mae')\n",
    "## instantiating crossvalidator estimator\n",
    "cv = CrossValidator(estimator=pipeline, estimatorParamMaps=params,evaluator=reg_evaluator,parallelism=4)"
   ]
  },
  {
   "cell_type": "code",
   "execution_count": 45,
   "metadata": {},
   "outputs": [],
   "source": [
    "## fitting crossvalidator\n",
    "cross_validated_model = cv.fit(fire_df)"
   ]
  },
  {
   "cell_type": "markdown",
   "metadata": {},
   "source": [
    "Now, let's see how well the model performed! Let's take a look at the average performance for each one of our 9 models. It looks like the optimal performance is an MAE around 23. Note that this is worse than our original model, but that's because our original model had substantial data leakage. We didn't do a train-test-split!"
   ]
  },
  {
   "cell_type": "code",
   "execution_count": 46,
   "metadata": {
    "scrolled": true
   },
   "outputs": [
    {
     "data": {
      "text/plain": [
       "[21.562596955329695,\n",
       " 20.459605639710656,\n",
       " 20.80741422000631,\n",
       " 22.78485462182764,\n",
       " 21.432133144188,\n",
       " 21.358537842962225,\n",
       " 22.880290063712657,\n",
       " 21.581106853039177,\n",
       " 21.44925378440924]"
      ]
     },
     "execution_count": 46,
     "metadata": {},
     "output_type": "execute_result"
    }
   ],
   "source": [
    "cross_validated_model.avgMetrics"
   ]
  },
  {
   "cell_type": "markdown",
   "metadata": {},
   "source": [
    "Now, let's take a look at the optimal parameters of our best performing model. The cross_validated_model variable is now saved as the best performing model from the grid search just performed. Let's look to see how well the predictions performed. As you can see, this dataset has a large number of areas of \"0.0\" burned. Perhaps, it would be better to investigate this problem as a classification task."
   ]
  },
  {
   "cell_type": "code",
   "execution_count": 47,
   "metadata": {},
   "outputs": [
    {
     "name": "stdout",
     "output_type": "stream",
     "text": [
      "+------------------+-------+\n",
      "|        prediction|   area|\n",
      "+------------------+-------+\n",
      "| 7.023039031145523|    0.0|\n",
      "| 5.565699583760822|    0.0|\n",
      "| 5.617430514430963|    0.0|\n",
      "| 7.631708380214597|    0.0|\n",
      "| 5.104488347510223|    0.0|\n",
      "| 8.379079677272632|    0.0|\n",
      "| 7.088855641062812|    0.0|\n",
      "| 6.682104318586358|    0.0|\n",
      "| 9.334117685251902|    0.0|\n",
      "| 8.210660043608318|    0.0|\n",
      "| 8.253984151844344|    0.0|\n",
      "| 5.777410101863453|    0.0|\n",
      "| 7.247028146581812|    0.0|\n",
      "| 9.063730325385334|    0.0|\n",
      "|  99.0215885320231|    0.0|\n",
      "| 6.762433109292334|    0.0|\n",
      "| 6.688911184147115|    0.0|\n",
      "|6.9911292414119695|    0.0|\n",
      "| 5.353764653572825|    0.0|\n",
      "| 5.488065149118832|    0.0|\n",
      "|16.017484505818896|    0.0|\n",
      "| 4.526332774949601|    0.0|\n",
      "| 6.617494548439815|    0.0|\n",
      "| 8.788212354506538|    0.0|\n",
      "| 7.135763750383435|    0.0|\n",
      "| 6.519916141756124|    0.0|\n",
      "| 7.742966514165883|    0.0|\n",
      "| 9.298886352526342|    0.0|\n",
      "|31.598453515320884|    0.0|\n",
      "|12.947829311375783|    0.0|\n",
      "| 32.20408700072333|    0.0|\n",
      "|  6.50888818140586|    0.0|\n",
      "| 5.145086404195829|    0.0|\n",
      "|5.8675077882896325|    0.0|\n",
      "| 5.087753720567154|    0.0|\n",
      "|  6.71060118055675|    0.0|\n",
      "| 5.505108796215504|    0.0|\n",
      "| 6.191937629328164|    0.0|\n",
      "| 6.926674761235903|    0.0|\n",
      "|4.4836428280694145|    0.0|\n",
      "|13.334223476765114|    0.0|\n",
      "|5.0339805223995695|    0.0|\n",
      "| 4.229792231169018|    0.0|\n",
      "| 8.363585914094395|    0.0|\n",
      "| 7.207619326855537|    0.0|\n",
      "| 9.328575213313758|    0.0|\n",
      "|  8.49157954093912|    0.0|\n",
      "| 6.812707840551948|    0.0|\n",
      "| 4.575819730050031|    0.0|\n",
      "| 5.396991593735355|    0.0|\n",
      "|10.077313098668593|    0.0|\n",
      "| 4.735633687585422|    0.0|\n",
      "|4.4513813493045795|    0.0|\n",
      "|4.4513813493045795|    0.0|\n",
      "| 4.592454446425355|    0.0|\n",
      "|  11.2571121581095|    0.0|\n",
      "| 6.549374371446739|    0.0|\n",
      "| 6.139302541898169|    0.0|\n",
      "|3.9380380881599604|    0.0|\n",
      "| 4.935536925756767|    0.0|\n",
      "|3.5948126082397103|    0.0|\n",
      "|  5.49865299544127|    0.0|\n",
      "| 6.812575262971523|    0.0|\n",
      "| 4.133418327176786|    0.0|\n",
      "| 4.224210080486885|    0.0|\n",
      "| 9.061252407166855|    0.0|\n",
      "| 6.244687445163175|    0.0|\n",
      "| 6.524081386651144|    0.0|\n",
      "|7.3520735502604975|    0.0|\n",
      "| 5.021308747558411|    0.0|\n",
      "| 5.683127245646954|    0.0|\n",
      "| 5.066634230801093|    0.0|\n",
      "| 4.598344122879734|    0.0|\n",
      "| 5.462235405681975|    0.0|\n",
      "| 6.439593364418663|    0.0|\n",
      "|16.728152583696005|    0.0|\n",
      "|14.621106424699063|    0.0|\n",
      "|  5.58429512646839|    0.0|\n",
      "| 5.976924557459204|    0.0|\n",
      "|10.620252602081605|    0.0|\n",
      "|  9.52777900601953|    0.0|\n",
      "| 8.035921166787979|    0.0|\n",
      "| 6.244370193842511|    0.0|\n",
      "|  5.87148077664285|    0.0|\n",
      "|  9.29158645145411|    0.0|\n",
      "|14.470620124403716|    0.0|\n",
      "|18.052920656540003|    0.0|\n",
      "| 18.66503102087805|    0.0|\n",
      "|17.835135870640535|    0.0|\n",
      "| 5.788080863321102|    0.0|\n",
      "| 5.516299640174421|    0.0|\n",
      "| 6.984641405382141|    0.0|\n",
      "| 10.25883234720877|    0.0|\n",
      "| 9.015834689987727|    0.0|\n",
      "|5.8327572047212914|    0.0|\n",
      "|6.6749851867220675|    0.0|\n",
      "| 6.323027943170685|    0.0|\n",
      "| 5.151288863736562|    0.0|\n",
      "| 5.775349926728565|    0.0|\n",
      "| 5.113757186404033|    0.0|\n",
      "| 5.113757186404033|    0.0|\n",
      "| 5.185485647826019|    0.0|\n",
      "| 4.014895407247398|    0.0|\n",
      "|14.627708237720364|    0.0|\n",
      "| 6.853016871085523|    0.0|\n",
      "| 5.372438686006356|    0.0|\n",
      "| 4.971194409884152|    0.0|\n",
      "| 5.056230298214185|    0.0|\n",
      "|7.4841121348931265|    0.0|\n",
      "| 6.095763504962233|    0.0|\n",
      "| 5.341543505407509|    0.0|\n",
      "| 4.563368707041284|    0.0|\n",
      "|13.450510677408076|    0.0|\n",
      "| 4.035582874548051|    0.0|\n",
      "|  5.60680138888947|    0.0|\n",
      "| 5.722563133051247|    0.0|\n",
      "| 4.900515635394837|    0.0|\n",
      "| 6.201678962448811|    0.0|\n",
      "| 4.675262928625862|    0.0|\n",
      "| 3.863341733308323|    0.0|\n",
      "| 4.862367499572324|    0.0|\n",
      "|  5.39289912646057|    0.0|\n",
      "| 8.706245462381322|    0.0|\n",
      "| 7.099916521417268|    0.0|\n",
      "| 6.086254668736038|    0.0|\n",
      "|6.9513598039636335|    0.0|\n",
      "| 3.772877816798041|    0.0|\n",
      "| 7.855754911599668|    0.0|\n",
      "|4.3137141516120066|    0.0|\n",
      "|12.068926428424831|    0.0|\n",
      "| 5.393770590831711|    0.0|\n",
      "|  5.02409705853431|    0.0|\n",
      "| 5.037862109004367|    0.0|\n",
      "|  5.34028965193446|    0.0|\n",
      "|3.5686665545743086|    0.0|\n",
      "| 5.998868184199903|    0.0|\n",
      "|14.581540712617157|    0.0|\n",
      "| 8.303240371900145|    0.0|\n",
      "|25.108842540750494|   0.36|\n",
      "|15.126398526912594|   0.43|\n",
      "| 8.139313943579362|   0.47|\n",
      "| 3.714582465509541|   0.55|\n",
      "|11.168522880099449|   0.61|\n",
      "|11.333791617666458|   0.71|\n",
      "|4.2452763938474165|   0.77|\n",
      "| 19.94873664326417|    0.9|\n",
      "| 5.188055736984669|   0.95|\n",
      "| 9.911509134816743|   0.96|\n",
      "| 5.172342000598746|   1.07|\n",
      "| 8.537887195563023|   1.12|\n",
      "|6.9391258097972495|   1.19|\n",
      "|31.192547560701602|   1.36|\n",
      "| 6.657848423478982|   1.43|\n",
      "| 5.762607608891776|   1.46|\n",
      "|52.392561825706764|   1.46|\n",
      "| 4.339871522656988|   1.56|\n",
      "|  31.4848953449022|   1.61|\n",
      "|3.8077848002550128|   1.63|\n",
      "| 3.999439877193071|   1.64|\n",
      "| 7.742966514165883|   1.69|\n",
      "| 5.829036613890599|   1.75|\n",
      "| 6.264279062104234|    1.9|\n",
      "| 6.220110312569727|   1.94|\n",
      "|25.558026132616643|   1.95|\n",
      "| 6.508418665075594|   2.01|\n",
      "|  6.50534673605214|   2.14|\n",
      "|3.6219578323322357|   2.29|\n",
      "| 7.051252303367387|   2.51|\n",
      "| 9.875642645209455|   2.53|\n",
      "| 7.134569106042939|   2.55|\n",
      "| 6.516769145301987|   2.57|\n",
      "| 7.242378632551119|   2.69|\n",
      "| 6.567491049520418|   2.74|\n",
      "| 8.028828992824522|   3.07|\n",
      "| 4.035980047327596|    3.5|\n",
      "| 4.037568284391063|   4.53|\n",
      "| 6.726500829036347|   4.61|\n",
      "| 4.406269437030539|   4.69|\n",
      "| 5.182683594189156|   4.88|\n",
      "| 10.51779392245953|   5.23|\n",
      "|10.575342908241483|   5.33|\n",
      "| 7.859590355316189|   5.44|\n",
      "| 4.595815690247082|   6.38|\n",
      "| 7.567244685022087|   6.83|\n",
      "|10.016462174517665|   6.96|\n",
      "|  9.00172718108995|   7.04|\n",
      "|11.307307694745857|   7.19|\n",
      "|10.972366799971665|    7.3|\n",
      "| 4.967373942722039|    7.4|\n",
      "| 7.026272871875267|   8.24|\n",
      "| 6.502075730883202|   8.31|\n",
      "| 4.964601851310368|   8.68|\n",
      "|13.629327620254209|   8.71|\n",
      "| 9.807938352393606|   9.41|\n",
      "|13.629327620254209|  10.01|\n",
      "| 5.201912594817313|  10.02|\n",
      "| 6.726500829036347|  10.93|\n",
      "|10.421956675904363|  11.06|\n",
      "| 11.25450167413902|  11.24|\n",
      "| 7.832378022288884|  11.32|\n",
      "|15.863552210898355|  11.53|\n",
      "| 5.970750380717843|   12.1|\n",
      "| 6.262634867584482|  13.05|\n",
      "| 7.334625650315352|   13.7|\n",
      "| 5.550533149846517|  13.99|\n",
      "|  7.77518715361954|  14.57|\n",
      "| 8.454339679390438|  15.45|\n",
      "| 10.96247626943692|   17.2|\n",
      "| 7.142713164025706|  19.23|\n",
      "| 9.151846283996939|  23.41|\n",
      "| 7.146867431075076|  24.23|\n",
      "| 9.281873245061472|   26.0|\n",
      "| 6.622852568024057|  26.13|\n",
      "| 6.933113257973726|  27.35|\n",
      "| 6.857709836667954|  28.66|\n",
      "| 6.857709836667954|  28.66|\n",
      "|15.651099612892551|  29.48|\n",
      "| 6.440846427676948|  30.32|\n",
      "|11.676050303105022|  31.72|\n",
      "| 7.318405768969771|  31.86|\n",
      "| 6.655133693335428|  32.07|\n",
      "| 7.969146574040842|  35.88|\n",
      "| 5.396991593735355|  36.85|\n",
      "|40.413705580599846|  37.02|\n",
      "| 7.336274762855334|  37.71|\n",
      "|10.564177339020214|  48.55|\n",
      "| 8.418044685022087|  49.37|\n",
      "|15.782969970875053|   58.3|\n",
      "| 47.93208372078114|   64.1|\n",
      "|16.899411204332218|   71.3|\n",
      "|37.192922684449655|  88.49|\n",
      "| 79.66755317169408|  95.18|\n",
      "| 17.77493311991027| 103.39|\n",
      "| 39.36002234996144| 105.66|\n",
      "| 98.31067432053408| 154.88|\n",
      "|25.623986111046644| 196.48|\n",
      "| 69.54544271167839| 200.94|\n",
      "|54.828723938512184| 212.88|\n",
      "| 622.4821885206031|1090.84|\n",
      "| 6.697512466125783|    0.0|\n",
      "| 4.858112646587869|    0.0|\n",
      "| 5.657714174174925|    0.0|\n",
      "| 4.680943362008091|  10.13|\n",
      "|7.1755821438331004|    0.0|\n",
      "|  5.77344311849856|   2.87|\n",
      "|21.247539489785595|   0.76|\n",
      "| 6.399996227286054|   0.09|\n",
      "|  5.55039910341892|   0.75|\n",
      "| 15.93882316252122|    0.0|\n",
      "| 4.659737193403975|   2.47|\n",
      "|25.222094996875075|   0.68|\n",
      "| 5.472675384684323|   0.24|\n",
      "| 4.625663621343502|   0.21|\n",
      "| 5.003883016863074|   1.52|\n",
      "|  7.42919977979086|  10.34|\n",
      "|  5.22993217137196|    0.0|\n",
      "| 8.559564249684996|   8.02|\n",
      "| 3.919671308095867|   0.68|\n",
      "| 5.090887823501658|    0.0|\n",
      "|  5.63517364885968|   1.38|\n",
      "| 6.762899026782019|   8.85|\n",
      "| 4.961854475081947|    3.3|\n",
      "|  4.00553386764871|   4.25|\n",
      "| 6.518418775627905|   1.56|\n",
      "| 9.516339198900528|   6.54|\n",
      "| 9.619303665310282|   0.79|\n",
      "|5.8357705277318095|   0.17|\n",
      "|10.663779679741253|    0.0|\n",
      "| 4.818323236001126|    0.0|\n",
      "| 5.976335094590167|    4.4|\n",
      "| 7.751510122137561|   0.52|\n",
      "|   9.0637879657708|   9.27|\n",
      "|5.2667612485449045|   3.09|\n",
      "| 7.390092634999591|   8.98|\n",
      "| 8.514537537297704|  11.19|\n",
      "| 7.237806454254633|   5.38|\n",
      "| 9.344666400727691|  17.85|\n",
      "|  8.84401945561004|  10.73|\n",
      "| 9.344666400727691|  22.03|\n",
      "| 9.344666400727691|   9.77|\n",
      "| 7.135475025683204|   9.27|\n",
      "|10.137661884779494|  24.77|\n",
      "| 6.779930113420887|    0.0|\n",
      "| 4.336450621809226|    1.1|\n",
      "| 6.433035890621434|  24.24|\n",
      "| 5.769583935563252|    0.0|\n",
      "| 9.427132959444622|    0.0|\n",
      "| 5.438128147800832|    0.0|\n",
      "|5.4362362930162655|    0.0|\n",
      "|  5.25436509441981|    0.0|\n",
      "|3.6180751652947647|    0.0|\n",
      "|  7.93825739126271|    8.0|\n",
      "| 5.655512799300887|   2.64|\n",
      "| 46.30508147421707|  86.45|\n",
      "| 9.723158227515176|   6.57|\n",
      "| 5.258012426057153|    0.0|\n",
      "| 5.010445751128151|    0.9|\n",
      "| 5.681865646232804|    0.0|\n",
      "|10.261372375311012|    0.0|\n",
      "| 6.171256635364924|    0.0|\n",
      "+------------------+-------+\n",
      "only showing top 300 rows\n",
      "\n"
     ]
    }
   ],
   "source": [
    "predictions = cross_validated_model.transform(spark_df)\n",
    "predictions.select('prediction','area').show(300)"
   ]
  },
  {
   "cell_type": "markdown",
   "metadata": {},
   "source": [
    "Now let's go ahead and take a look at the feature importances of our Random Forest model. In order to do this, we need to unroll our pipeline to access the Random Forest Model. Let's start by first checking out the \"bestModel\" attribute of our cross_validated_model."
   ]
  },
  {
   "cell_type": "code",
   "execution_count": 48,
   "metadata": {
    "slideshow": {
     "slide_type": "slide"
    }
   },
   "outputs": [
    {
     "data": {
      "text/plain": [
       "pyspark.ml.pipeline.PipelineModel"
      ]
     },
     "execution_count": 48,
     "metadata": {},
     "output_type": "execute_result"
    }
   ],
   "source": [
    "type(cross_validated_model.bestModel)"
   ]
  },
  {
   "cell_type": "markdown",
   "metadata": {},
   "source": [
    "`ml` is treating the entire pipeline as the best performing model, so we need to go deeper into the pipeline to access the Random Forest model within it. Previously, we put the Random Forest Model as the final \"stage\" in the stages variable list. Let's look at the stages attribute of the bestModel."
   ]
  },
  {
   "cell_type": "code",
   "execution_count": 49,
   "metadata": {},
   "outputs": [
    {
     "data": {
      "text/plain": [
       "[StringIndexer_74083a92ae71,\n",
       " OneHotEncoderEstimator_482a3b7505f8,\n",
       " VectorAssembler_bf0e9a75ab44,\n",
       " RandomForestRegressionModel (uid=RandomForestRegressor_7cceb10cbf60) with 50 trees]"
      ]
     },
     "execution_count": 49,
     "metadata": {},
     "output_type": "execute_result"
    }
   ],
   "source": [
    "cross_validated_model.bestModel.stages"
   ]
  },
  {
   "cell_type": "markdown",
   "metadata": {},
   "source": [
    "Perfect! There's the RandomForestRegressionModel, represented by the last item in the stages list. Now, we should be able to access all the attributes of the Random Forest Regressor."
   ]
  },
  {
   "cell_type": "code",
   "execution_count": 50,
   "metadata": {},
   "outputs": [],
   "source": [
    "optimal_rf_model = cross_validated_model.bestModel.stages[3]"
   ]
  },
  {
   "cell_type": "code",
   "execution_count": 51,
   "metadata": {},
   "outputs": [
    {
     "data": {
      "text/plain": [
       "SparseVector(22, {0: 0.0973, 1: 0.0732, 2: 0.1279, 3: 0.1419, 4: 0.1307, 5: 0.0818, 6: 0.1187, 7: 0.1091, 8: 0.0822, 10: 0.0081, 11: 0.019, 12: 0.0, 13: 0.0094, 14: 0.0001, 15: 0.0001, 16: 0.0001, 17: 0.0001, 18: 0.0001, 20: 0.0003})"
      ]
     },
     "execution_count": 51,
     "metadata": {},
     "output_type": "execute_result"
    }
   ],
   "source": [
    "optimal_rf_model.featureImportances"
   ]
  },
  {
   "cell_type": "code",
   "execution_count": 52,
   "metadata": {},
   "outputs": [
    {
     "data": {
      "text/plain": [
       "50"
      ]
     },
     "execution_count": 52,
     "metadata": {},
     "output_type": "execute_result"
    }
   ],
   "source": [
    "optimal_rf_model.getNumTrees"
   ]
  },
  {
   "cell_type": "markdown",
   "metadata": {},
   "source": [
    "## Summary\n",
    "\n",
    "In this lesson, you have learned about pyspark's DataFrames, machine learning models, and pipelines. With the use of a pipeline, you can train a huge number of models simultaneously, saving you a substantial amount of time and effort. Up next, you will have a chance to build a pyspark machine learning pipeline of your own with a classification problem!"
   ]
  }
 ],
 "metadata": {
  "kernelspec": {
   "display_name": "Python 3",
   "language": "python",
   "name": "python3"
  },
  "language_info": {
   "codemirror_mode": {
    "name": "ipython",
    "version": 3
   },
   "file_extension": ".py",
   "mimetype": "text/x-python",
   "name": "python",
   "nbconvert_exporter": "python",
   "pygments_lexer": "ipython3",
   "version": "3.7.1"
  }
 },
 "nbformat": 4,
 "nbformat_minor": 2
}
